{
 "cells": [
  {
   "cell_type": "markdown",
   "metadata": {},
   "source": [
    "# 1. Generate images set out of original lunar DEM tile (60 m/pix)\n",
    "download file and initialize workspace: "
   ]
  },
  {
   "cell_type": "code",
   "execution_count": null,
   "metadata": {
    "collapsed": false
   },
   "outputs": [],
   "source": [
    "# !wget -P ../data/ http://pds-geosciences.wustl.edu/lro/lro-l-lola-3-rdr-v1/lrolol_1xxx/data/sldem2015/tiles/jp2/sldem2015_512_00n_30n_000_045.jp2\n",
    "from PIL import Image\n",
    "import time\n",
    "Image.MAX_IMAGE_PIXELS = 353894500\n",
    "import matplotlib.pyplot as plt\n",
    "%matplotlib inline\n",
    "import numpy as np\n",
    "import input_data_gen as igen\n",
    "import utils.processing as proc\n",
    "import h5py\n",
    "import utils.maplot\n",
    "\n",
    "data_path='../data/'"
   ]
  },
  {
   "cell_type": "code",
   "execution_count": null,
   "metadata": {
    "collapsed": false
   },
   "outputs": [],
   "source": [
    "# Read source image.\n",
    "img = Image.open(data_path + \"/sldem2015_512_00n_30n_000_045.jp2\")\n",
    "print(img.format, img.size, img.mode)\n",
    "# [Min long, max long, min lat, max lat] dimensions of source image.\n",
    "source_cdim = [0., 45., 0., 30.]"
   ]
  },
  {
   "cell_type": "code",
   "execution_count": null,
   "metadata": {
    "collapsed": false
   },
   "outputs": [],
   "source": [
    "start_time = time.time()\n",
    "fig = plt.figure(figsize=[6, 3])\n",
    "dem_map = plt.imshow(img, extent=source_cdim, aspect=\"equal\", cmap=\"YlGn\")\n",
    "elapsed_time = time.time() - start_time\n",
    "print(elapsed_time)"
   ]
  },
  {
   "cell_type": "markdown",
   "metadata": {},
   "source": [
    "Crop img to img_cr:"
   ]
  },
  {
   "cell_type": "code",
   "execution_count": null,
   "metadata": {
    "collapsed": false
   },
   "outputs": [],
   "source": [
    "box = (0,1800,3600,3600)\n",
    "ex_box = source_cdim*(np.array(box)/(img.size+img.size))[[0,2,1,3]]\n",
    "img_cr=img.crop(box)\n",
    "print(img_cr.format, img_cr.size, img_cr.mode)"
   ]
  },
  {
   "cell_type": "markdown",
   "metadata": {},
   "source": [
    "Conversion from 16-bit to 8-bit:"
   ]
  },
  {
   "cell_type": "code",
   "execution_count": null,
   "metadata": {
    "collapsed": false
   },
   "outputs": [],
   "source": [
    "start_time = time.time()\n",
    "\n",
    "img16=np.asarray(img_cr)\n",
    "img16vec=np.concatenate(img16)\n",
    "\n",
    "fig=plt.figure(figsize=(12,5))\n",
    "#plot original image 16 bit+histogram:\n",
    "plt.subplot(2,2,1)\n",
    "plt.title('original 16 bit')\n",
    "plt.imshow(img16, extent=source_cdim, aspect=\"equal\", cmap=\"YlGn\")\n",
    "plt.colorbar()\n",
    "\n",
    "plt.subplot(2,2,3)\n",
    "plt.hist(img16vec, 256*2);\n",
    "\n",
    "\n",
    "#transformation: \n",
    "min_val = np.min(img16vec)\n",
    "dif = (np.max(img16vec)-min_val)\n",
    "img8 = np.uint8((img16-min_val)/dif*256)\n",
    "\n",
    "#plot transformed 8 bit+hist:\n",
    "plt.subplot(2,2,2)\n",
    "plt.title('transformed 8 bit')\n",
    "plt.imshow(img8, extent=source_cdim, aspect=\"equal\", cmap=\"YlGn\")\n",
    "plt.colorbar()\n",
    "\n",
    "plt.subplot(2,2,4)\n",
    "plt.hist(np.concatenate(img8), 256*2);\n",
    "\n",
    "elapsed_time = time.time() - start_time\n",
    "print(elapsed_time)"
   ]
  },
  {
   "cell_type": "markdown",
   "metadata": {},
   "source": [
    "Define conversion function:"
   ]
  },
  {
   "cell_type": "code",
   "execution_count": null,
   "metadata": {
    "collapsed": false
   },
   "outputs": [],
   "source": [
    "from PIL import Image\n",
    "import numpy as np\n",
    "def convert16to8bit(img):\n",
    "    \"\"\"Transform PIL image of 16-bit to 8-bit\"\"\"\n",
    "    img16=np.asarray(img)\n",
    "    img16vec=np.concatenate(img16)\n",
    "\n",
    "    #transformation: \n",
    "    min_val = np.min(img16vec)\n",
    "    dif = (np.max(img16vec)-min_val)\n",
    "    img8 = np.uint8((img16-min_val)/dif*256)\n",
    "\n",
    "    return Image.fromarray(img8)"
   ]
  },
  {
   "cell_type": "code",
   "execution_count": null,
   "metadata": {
    "collapsed": false
   },
   "outputs": [],
   "source": [
    "print(img.format, img.size, img.mode)\n",
    "start_time = time.time()\n",
    "con_img=convert16to8bit(img)\n",
    "elapsed_time = time.time() - start_time\n",
    "print(elapsed_time)\n",
    "print(con_img.format, con_img.size, con_img.mode)"
   ]
  },
  {
   "cell_type": "code",
   "execution_count": null,
   "metadata": {
    "collapsed": false
   },
   "outputs": [],
   "source": [
    "# Read the Robbins dataset (stored under /catalogues)\n",
    "craters = igen.ReadRobbinsCraterCSV(filename=\"catalogues/RobbinsLunarCraters.csv\")\n",
    "# craters = igen.ReadLROCHeadCombinedCraterCSV(filelroc=\"catalogues/LROCCraters.csv\",\n",
    "#                                   filehead=\"catalogues/HeadCraters.csv\")\n",
    "craters = igen.ResampleCraters(craters, source_cdim, con_img.size[1]) #crop relevant part\n",
    "craters.tail()"
   ]
  },
  {
   "cell_type": "code",
   "execution_count": null,
   "metadata": {
    "collapsed": false
   },
   "outputs": [],
   "source": [
    "fn = '../data/test_SLDEM4'\n",
    "sub_cdim = [0., 20., 0., 30.]\n",
    "\n",
    "# If True, script prints out the image it's currently working on.\n",
    "verbose = True\n",
    "\n",
    "# Sample subset of image.  Co-opt igen.ResampleCraters to remove all\n",
    "# craters beyond cdim (either sub or source).\n",
    "if sub_cdim != source_cdim:\n",
    "    img = igen.InitialImageCut(con_img, source_cdim, sub_cdim)\n",
    "\n",
    "craters = igen.ResampleCraters(craters, sub_cdim, img.size[1])\n",
    "\n",
    "start_time = time.time()\n",
    "\n",
    "# Generate input images: \n",
    "igen.GenDataset(img, craters, fn, \n",
    "                 cdim=sub_cdim, amt=10, rawlen_range=[256, 2000], seed=1337, verbos)\n",
    "\n",
    "elapsed_time = time.time() - start_time\n",
    "if verbose:\n",
    "    print(\"Time elapsed: {0:.1f} min\".format(elapsed_time / 60.))"
   ]
  },
  {
   "cell_type": "code",
   "execution_count": null,
   "metadata": {
    "collapsed": false
   },
   "outputs": [],
   "source": [
    "fn = '../data/test_SLDEM3'\n",
    "sub_cdim = [0., 20., 0., 30.]\n",
    "\n",
    "gen_imgs = h5py.File(fn + '_images.hdf5', 'r')\n",
    "sample_data = {'imgs': [gen_imgs['input_images'][...].astype('float32'),\n",
    "                        gen_imgs['target_masks'][...].astype('float32')]}\n",
    "\n",
    "# See 5 images of the set we produced: \n",
    "show_subset = np.random.choice(range(len(gen_imgs['cll_xy'])),size=10, replace=False)\n",
    "fig = plt.figure(figsize=[16, 8])\n",
    "# dem_map = plt.imshow(img, extent=sub_cdim, aspect=\"equal\", cmap=\"YlGn\")\n",
    "plt.xlabel(\"Longitude\"); plt.ylabel(\"Latitude\")\n",
    "for i in show_subset:\n",
    "  llon,rlon,llat,ulat=gen_imgs['longlat_bounds']['img_{:02d}'.format(i)][...]\n",
    "  h1,=plt.plot([llon, llon, rlon, rlon, llon],[llat, ulat, ulat, llat, llat],'r')\n",
    "  plt.text(llon,llat,str(i), color='k')\n",
    "\n",
    "# plt.colorbar()\n",
    "    \n",
    "fig2 = plt.figure(figsize=[16, 8])\n",
    "for i, im_num in enumerate(show_subset):\n",
    "  ax=plt.subplot(len(show_subset)//5,5,i+1)\n",
    "  utils.maplot.plot_map_w_scalebar2(ax,gen_imgs,im_num)"
   ]
  },
  {
   "cell_type": "markdown",
   "metadata": {},
   "source": [
    "# 2. Test model on frames from new DEM"
   ]
  },
  {
   "cell_type": "code",
   "execution_count": null,
   "metadata": {
    "collapsed": false
   },
   "outputs": [],
   "source": [
    "import keras\n",
    "keras.__version__"
   ]
  },
  {
   "cell_type": "code",
   "execution_count": null,
   "metadata": {
    "collapsed": false
   },
   "outputs": [],
   "source": [
    "from keras.models import load_model\n",
    "import sys\n",
    "deepmoon_path='../DeepCrater'\n",
    "sys.path.append(\"%s/utils/\"%deepmoon_path)\n",
    "import template_match_target as tmt\n",
    "\n",
    "# Use the commented out line for Keras 2.0+\n",
    "# model = load_model(zenodo_path + '/model_keras2.h5')\n",
    "model = load_model(data_path + '/model_keras1.2.2.h5')"
   ]
  },
  {
   "cell_type": "code",
   "execution_count": null,
   "metadata": {
    "collapsed": true
   },
   "outputs": [],
   "source": [
    "fn = '../data/test_SLDEM4'\n",
    "gen_imgs = h5py.File(fn + '_images.hdf5', 'r')\n",
    "sample_data = {'imgs': [gen_imgs['input_images'][...].astype('float32'),\n",
    "                        gen_imgs['target_masks'][...].astype('float32')]}\n",
    "proc.preprocess(sample_data)\n",
    "sd_input_images = sample_data['imgs'][0]\n",
    "sd_target_masks = sample_data['imgs'][1]"
   ]
  },
  {
   "cell_type": "code",
   "execution_count": null,
   "metadata": {
    "collapsed": false
   },
   "outputs": [],
   "source": [
    "# Use the CNN to make a prediction.  We use [iwant:iwant + 1] to keep input as a 4D tensor.\n",
    "# Input data MUST BE PREPROCESSED (see proc.preprocess, above) before being passed into model.predict\n",
    "iwant = show_subset[2]\n",
    "pred = model.predict(sd_input_images[iwant:iwant + 1])\n",
    "# Use scikit-image template matching to extract crater locations.  Only search for craters with r >= 3 pixels.\n",
    "extracted_rings = tmt.template_match_t(pred[0].copy(), minrad=1.)\n",
    "fig = plt.figure(figsize=[18, 6])\n",
    "[ax1, ax2, ax3] = fig.subplots(1, 3)\n",
    "ax1.imshow(sd_input_images[iwant].squeeze(), origin='upper', cmap='YlGn')\n",
    "ax1.imshow(1-sd_target_masks[iwant].squeeze(), origin='upper', cmap='Greys_r', alpha=0.3)\n",
    "ax2.imshow(pred[0], origin='upper', cmap='Greys_r', vmin=0, vmax=1)\n",
    "ax3.imshow(sd_input_images[iwant].squeeze(), origin='upper', cmap=\"YlGn\")\n",
    "for x, y, r in extracted_rings:\n",
    "    circle = plt.Circle((x, y), r, color='blue', fill=False, linewidth=2, alpha=0.9)\n",
    "    ax3.add_artist(circle)\n",
    "ax1.set_title('DEM + Ground-Truth')\n",
    "ax2.set_title('CNN Predictions')\n",
    "ax3.set_title('Post-CNN Craters')\n",
    "plt.show()"
   ]
  },
  {
   "cell_type": "code",
   "execution_count": null,
   "metadata": {
    "collapsed": false
   },
   "outputs": [],
   "source": [
    "import pandas as pd\n",
    "df=pd.DataFrame(data=extracted_rings, columns=['x','y','r'])\n",
    "print(df)\n",
    "df.pivot_table(index='r', aggfunc='count')"
   ]
  },
  {
   "cell_type": "code",
   "execution_count": null,
   "metadata": {
    "collapsed": false
   },
   "outputs": [],
   "source": [
    "img=gen_imgs['input_images'][4]\n",
    "# print(type(img), img.size, img.shape)\n",
    "np.unique(img.flatten())"
   ]
  }
 ],
 "metadata": {
  "kernelspec": {
   "display_name": "Python 3",
   "language": "python",
   "name": "python3"
  },
  "language_info": {
   "codemirror_mode": {
    "name": "ipython",
    "version": 3
   },
   "file_extension": ".py",
   "mimetype": "text/x-python",
   "name": "python",
   "nbconvert_exporter": "python",
   "pygments_lexer": "ipython3",
   "version": "3.5.6"
  }
 },
 "nbformat": 4,
 "nbformat_minor": 0
}
